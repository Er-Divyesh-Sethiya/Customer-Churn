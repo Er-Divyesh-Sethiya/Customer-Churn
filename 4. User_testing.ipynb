{
 "cells": [
  {
   "cell_type": "code",
   "execution_count": 12,
   "id": "48dbb936",
   "metadata": {},
   "outputs": [],
   "source": [
    "import pickle\n",
    "import pandas as pd"
   ]
  },
  {
   "cell_type": "code",
   "execution_count": 13,
   "id": "74bcf684",
   "metadata": {},
   "outputs": [],
   "source": [
    "with open(\"final_model.sav\",mode=\"rb\") as f1:\n",
    "    model = pickle.load(f1)"
   ]
  },
  {
   "cell_type": "code",
   "execution_count": 14,
   "id": "ffd67a68",
   "metadata": {},
   "outputs": [],
   "source": [
    "new = {'SeniorCitizen': 0,\n",
    " 'Partner': 'No',\n",
    " 'Dependents': 'No',\n",
    " 'tenure': 34,\n",
    " 'MultipleLines': 'No',\n",
    " 'InternetService': 'DSL',\n",
    " 'OnlineSecurity': 'Yes',\n",
    " 'OnlineBackup': 'No',\n",
    " 'DeviceProtection': 'Yes',\n",
    " 'TechSupport': 'No',\n",
    " 'Contract': 'One year',\n",
    " 'PaperlessBilling': 'No',\n",
    " 'PaymentMethod': 'Mailed check',\n",
    " 'MonthlyCharges': 56.95,\n",
    " 'TotalCharges': 1889.5,\n",
    "    }"
   ]
  },
  {
   "cell_type": "code",
   "execution_count": 15,
   "id": "2b05e6c2",
   "metadata": {},
   "outputs": [],
   "source": [
    "data = pd.DataFrame(new,index=[0])"
   ]
  },
  {
   "cell_type": "code",
   "execution_count": 22,
   "id": "c29ad92f",
   "metadata": {},
   "outputs": [
    {
     "data": {
      "text/html": [
       "<div>\n",
       "<style scoped>\n",
       "    .dataframe tbody tr th:only-of-type {\n",
       "        vertical-align: middle;\n",
       "    }\n",
       "\n",
       "    .dataframe tbody tr th {\n",
       "        vertical-align: top;\n",
       "    }\n",
       "\n",
       "    .dataframe thead th {\n",
       "        text-align: right;\n",
       "    }\n",
       "</style>\n",
       "<table border=\"1\" class=\"dataframe\">\n",
       "  <thead>\n",
       "    <tr style=\"text-align: right;\">\n",
       "      <th></th>\n",
       "      <th>SeniorCitizen</th>\n",
       "      <th>Partner</th>\n",
       "      <th>Dependents</th>\n",
       "      <th>tenure</th>\n",
       "      <th>MultipleLines</th>\n",
       "      <th>InternetService</th>\n",
       "      <th>OnlineSecurity</th>\n",
       "      <th>OnlineBackup</th>\n",
       "      <th>DeviceProtection</th>\n",
       "      <th>TechSupport</th>\n",
       "      <th>Contract</th>\n",
       "      <th>PaperlessBilling</th>\n",
       "      <th>PaymentMethod</th>\n",
       "      <th>MonthlyCharges</th>\n",
       "      <th>TotalCharges</th>\n",
       "    </tr>\n",
       "  </thead>\n",
       "  <tbody>\n",
       "    <tr>\n",
       "      <th>0</th>\n",
       "      <td>0</td>\n",
       "      <td>No</td>\n",
       "      <td>No</td>\n",
       "      <td>34</td>\n",
       "      <td>No</td>\n",
       "      <td>DSL</td>\n",
       "      <td>Yes</td>\n",
       "      <td>No</td>\n",
       "      <td>Yes</td>\n",
       "      <td>No</td>\n",
       "      <td>One year</td>\n",
       "      <td>No</td>\n",
       "      <td>Mailed check</td>\n",
       "      <td>56.95</td>\n",
       "      <td>1889.5</td>\n",
       "    </tr>\n",
       "  </tbody>\n",
       "</table>\n",
       "</div>"
      ],
      "text/plain": [
       "   SeniorCitizen Partner Dependents  tenure MultipleLines InternetService  \\\n",
       "0              0      No         No      34            No             DSL   \n",
       "\n",
       "  OnlineSecurity OnlineBackup DeviceProtection TechSupport  Contract  \\\n",
       "0            Yes           No              Yes          No  One year   \n",
       "\n",
       "  PaperlessBilling PaymentMethod  MonthlyCharges  TotalCharges  \n",
       "0               No  Mailed check           56.95        1889.5  "
      ]
     },
     "execution_count": 22,
     "metadata": {},
     "output_type": "execute_result"
    }
   ],
   "source": [
    "data"
   ]
  },
  {
   "cell_type": "code",
   "execution_count": null,
   "id": "3b6ca182",
   "metadata": {},
   "outputs": [],
   "source": []
  }
 ],
 "metadata": {
  "kernelspec": {
   "display_name": "Python 3 (ipykernel)",
   "language": "python",
   "name": "python3"
  },
  "language_info": {
   "codemirror_mode": {
    "name": "ipython",
    "version": 3
   },
   "file_extension": ".py",
   "mimetype": "text/x-python",
   "name": "python",
   "nbconvert_exporter": "python",
   "pygments_lexer": "ipython3",
   "version": "3.10.0"
  }
 },
 "nbformat": 4,
 "nbformat_minor": 5
}
